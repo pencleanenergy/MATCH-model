{
 "cells": [
  {
   "cell_type": "markdown",
   "metadata": {},
   "source": [
    "# Scenario Report"
   ]
  },
  {
   "cell_type": "code",
   "execution_count": null,
   "metadata": {
    "execution": {
     "iopub.execute_input": "2022-01-05T21:02:21.991676Z",
     "iopub.status.busy": "2022-01-05T21:02:21.991676Z",
     "iopub.status.idle": "2022-01-05T21:02:23.269726Z",
     "shell.execute_reply": "2022-01-05T21:02:23.269726Z"
    }
   },
   "outputs": [],
   "source": [
    "# Copyright (c) 2022 The MATCH Authors. All rights reserved.\n",
    "# Licensed under the GNU AFFERO GENERAL PUBLIC LICENSE Version 3 (or later), which is in the LICENSE file.\n",
    "print('entered summary_report.py')\n",
    "from pathlib import Path\n",
    "import pandas as pd\n",
    "import plotly.express as px\n",
    "import plotly\n",
    "import plotly.graph_objects as go \n",
    "from plotly.subplots import make_subplots\n",
    "import numpy as np\n",
    "from match_model.reporting.report_functions import *\n",
    "\n",
    "#get the name of the current directory to specify the scenario name and identify the output directory\n",
    "scenario_name = Path.cwd().name\n",
    "if scenario_name == 'inputs':\n",
    "    data_dir = Path.cwd() / '../outputs/'\n",
    "    inputs_dir = Path.cwd() / '../inputs/'\n",
    "    scenario_output_dir = Path.cwd() / '../summary_reports/'\n",
    "    scenario_name = 'N/A'\n",
    "else:\n",
    "    data_dir = Path.cwd() / f'../../outputs/{scenario_name}/'\n",
    "    inputs_dir = Path.cwd() / f'../../inputs/{scenario_name}/'\n",
    "    scenario_output_dir = Path.cwd() / '../../summary_reports/'\n",
    "\n",
    "#define formatting options/functions for outputs\n",
    "pd.options.display.float_format = '{:,.2f}'.format\n",
    "\n",
    "#allow the notebook to display plots in html report\n",
    "###################################################\n",
    "plotly.offline.init_notebook_mode()\n",
    "\n",
    "print(f'Scenario Name: {scenario_name}')"
   ]
  },
  {
   "cell_type": "code",
   "execution_count": null,
   "metadata": {
    "execution": {
     "iopub.execute_input": "2022-01-05T21:02:23.285356Z",
     "iopub.status.busy": "2022-01-05T21:02:23.285356Z",
     "iopub.status.idle": "2022-01-05T21:02:26.329223Z",
     "shell.execute_reply": "2022-01-05T21:02:26.329223Z"
    }
   },
   "outputs": [],
   "source": [
    "# load data from csvs\n",
    "baseload_capacity_factors = pd.read_csv(inputs_dir / \"baseload_capacity_factors.csv\")\n",
    "with open(inputs_dir / \"cambium_region.txt\", \"r\") as file:\n",
    "    cambium_region = file.read()\n",
    "with open(inputs_dir / \"cambium_scenario.txt\", \"r\") as file:\n",
    "    cambium_scenario = file.read()\n",
    "costs_by_gen = pd.read_csv(data_dir / \"costs_by_gen.csv\")\n",
    "costs_by_tp = pd.read_csv(data_dir / \"costs_by_tp.csv\")\n",
    "dispatch = pd.read_csv(data_dir / \"dispatch.csv\")\n",
    "with open(inputs_dir / \"ghg_emissions_unit.txt\", \"r\") as unit:\n",
    "    emissions_unit = unit.read()\n",
    "financials = pd.read_csv(inputs_dir / \"financials.csv\")\n",
    "fixed_costs = pd.read_csv(inputs_dir / \"fixed_costs.csv\")\n",
    "gen_build_predetermined = pd.read_csv(inputs_dir / \"gen_build_predetermined.csv\")\n",
    "gen_cap = pd.read_csv(data_dir / \"gen_cap.csv\")\n",
    "generation_projects_info = pd.read_csv(inputs_dir / \"generation_projects_info.csv\")\n",
    "with open(inputs_dir / \"gen_set.txt\", \"r\") as set_name:\n",
    "    gen_set = set_name.read()\n",
    "load_balance = pd.read_csv(data_dir / \"load_balance.csv\")\n",
    "lrmer_data = pd.read_csv(inputs_dir / \"lrmer_for_summary.csv\")\n",
    "nodal_prices = pd.read_csv(inputs_dir / \"nodal_prices.csv\")\n",
    "periods = pd.read_csv(inputs_dir / \"periods.csv\")\n",
    "# load RA data if modeled\n",
    "try:\n",
    "    ra_summary = pd.read_csv(data_dir / \"RA_summary.csv\")\n",
    "    ra_exists = True\n",
    "except FileNotFoundError:\n",
    "    ra_exists = False\n",
    "    ra_summary = pd.DataFrame()\n",
    "rec_value = pd.read_csv(inputs_dir / \"rec_value.csv\")\n",
    "system_power = pd.read_csv(data_dir / \"system_power.csv\")\n",
    "with open(inputs_dir / \"td_losses.txt\", \"r\") as loss:\n",
    "    td_losses = float(loss.read())\n",
    "timestamps = pd.read_csv(\n",
    "    inputs_dir / \"timepoints.csv\",\n",
    "    parse_dates=[\"timestamp\"],\n",
    "    usecols=[\"timepoint_id\", \"timestamp\"],\n",
    ")\n",
    "variable_capacity_factors = pd.read_csv(inputs_dir / \"variable_capacity_factors.csv\")\n",
    "try:\n",
    "    storage_builds = pd.read_csv(data_dir / \"storage_builds.csv\")\n",
    "    storage_cycle_count = pd.read_csv(data_dir / \"storage_cycle_count.csv\")\n",
    "    storage_dispatch = pd.read_csv(data_dir / \"storage_dispatch.csv\")\n",
    "    # there may not be any hybrid storage\n",
    "    try:\n",
    "        hybrid_pair = hybrid_pair_dict(generation_projects_info)\n",
    "    except KeyError:\n",
    "        hybrid_pair = dict()\n",
    "    storage_exists = True\n",
    "except:\n",
    "    storage_exists = False\n",
    "    storage_builds = pd.DataFrame()\n",
    "    storage_cycle_count = pd.DataFrame()\n",
    "    storage_dispatch = pd.DataFrame()\n",
    "    hybrid_pair = dict()\n",
    "\n",
    "model_year = periods.loc[0, \"period_start\"]\n",
    "financial_year = financials.loc[0, \"dollar_year\"]\n",
    "base_year = financials.loc[0, \"base_financial_year\"]\n",
    "\n",
    "technology_color_map = {\n",
    "    \"Small Hydro\": \"Blue\",\n",
    "    \"Consumed Small Hydro\": \"Blue\",\n",
    "    \"Excess Small Hydro\": \"DodgerBlue\",\n",
    "    \"Onshore Wind\": \"DeepSkyBlue\",\n",
    "    \"Consumed Onshore Wind\": \"DeepSkyBlue\",\n",
    "    \"Excess Onshore Wind\": \"LightSkyBlue\",\n",
    "    \"Offshore Wind\": \"Navy\",\n",
    "    \"Consumed Offshore Wind\": \"Navy\",\n",
    "    \"Excess Offshore Wind\": \"MediumSlateBlue\",\n",
    "    \"Solar PV\": \"Gold\",\n",
    "    \"Hybrid Solar PV\": \"Gold\",\n",
    "    \"Consumed Solar PV\": \"Gold\",\n",
    "    \"Excess Solar PV\": \"Yellow\",\n",
    "    \"CSP\": \"Orange\",\n",
    "    \"Geothermal\": \"Sienna\",\n",
    "    \"Consumed Geothermal\": \"Sienna\",\n",
    "    \"Storage\": \"Green\",\n",
    "    \"Storage Discharge\": \"Green\",\n",
    "    \"Hybrid Storage\": \"Green\",\n",
    "    \"Grid Energy\": \"Red\",\n",
    "    \"Shaped\": \"Orange\",\n",
    "    \"Consumed Shaped\": \"Orange\",\n",
    "    \"Excess Shaped\": \"LightSalmon\",\n",
    "    \"Wave\": \"LightSeaGreen\",\n",
    "    \"Solar Thermal\": \"Purple\",\n",
    "    \"Consumed Solar Thermal\": \"Purple\",\n",
    "    \"Excess Solar Thermal\": \"Plum\",\n",
    "    \"(?)\": \"Black\",\n",
    "}\n",
    "\n"
   ]
  },
  {
   "cell_type": "markdown",
   "metadata": {},
   "source": [
    "# Renewable Energy Goal"
   ]
  },
  {
   "cell_type": "markdown",
   "metadata": {},
   "source": [
    "## Portfolio Renewable Percentage"
   ]
  },
  {
   "cell_type": "code",
   "execution_count": null,
   "metadata": {
    "execution": {
     "iopub.execute_input": "2022-01-05T21:02:26.329223Z",
     "iopub.status.busy": "2022-01-05T21:02:26.329223Z",
     "iopub.status.idle": "2022-01-05T21:02:26.392363Z",
     "shell.execute_reply": "2022-01-05T21:02:26.392363Z"
    }
   },
   "outputs": [],
   "source": [
    "print(\n",
    "    f\"Time-coincident renewable percentage: {format_percent(hourly_renewable_percentage(load_balance))}\"\n",
    ")\n",
    "print(\n",
    "    f\"Annual volumetric renewable percentage: {format_percent(annual_renewable_percentage(load_balance))}\"\n",
    ")\n",
    "print(\n",
    "    f\"    Total Load:              {round(load_balance.zone_demand_mw.sum(), 1):,} MWh\"\n",
    ")\n",
    "print(\n",
    "    f\"    Total Storage Losses:    {round(load_balance.ZoneTotalStorageCharge.sum() - load_balance.ZoneTotalStorageDischarge.sum(), 1):,} MWh\"\n",
    ")\n",
    "print(\n",
    "    f\"    Total Excess Generation: {round(load_balance.ZoneTotalExcessGen.sum(), 1):,} MWh\"\n",
    ")\n"
   ]
  },
  {
   "cell_type": "markdown",
   "metadata": {},
   "source": [
    "## Sensitivity Analysis\n",
    "The following shows how well the selected portfolio would perform in specific resource years, considering the full intermittency and variability of wind and solar resources. "
   ]
  },
  {
   "cell_type": "code",
   "execution_count": null,
   "metadata": {
    "execution": {
     "iopub.execute_input": "2022-01-05T21:02:26.392363Z",
     "iopub.status.busy": "2022-01-05T21:02:26.392363Z",
     "iopub.status.idle": "2022-01-05T21:03:24.155274Z",
     "shell.execute_reply": "2022-01-05T21:03:24.155274Z"
    }
   },
   "outputs": [],
   "source": [
    "sensitivity_table = run_sensitivity_analysis(\n",
    "    gen_set,\n",
    "    gen_cap,\n",
    "    dispatch,\n",
    "    generation_projects_info,\n",
    "    load_balance,\n",
    "    storage_builds,\n",
    "    storage_exists,\n",
    ")\n",
    "\n"
   ]
  },
  {
   "cell_type": "markdown",
   "metadata": {},
   "source": [
    "## Carbon footprint of delivered energy"
   ]
  },
  {
   "cell_type": "code",
   "execution_count": null,
   "metadata": {
    "execution": {
     "iopub.execute_input": "2022-01-05T21:03:24.155274Z",
     "iopub.status.busy": "2022-01-05T21:03:24.155274Z",
     "iopub.status.idle": "2022-01-05T21:03:26.663915Z",
     "shell.execute_reply": "2022-01-05T21:03:26.663915Z"
    }
   },
   "outputs": [],
   "source": [
    "cambium_model_year = load_cambium_data(\n",
    "    scenario=cambium_scenario, year=model_year, region=cambium_region\n",
    ")\n",
    "total_emissions = calculate_emissions(\n",
    "    dispatch,\n",
    "    generation_projects_info,\n",
    "    system_power,\n",
    "    load_balance,\n",
    "    cambium_model_year,\n",
    "    emissions_unit,\n",
    ")\n",
    "print(\n",
    "    f\"Using {model_year} residual-mix emissions factors calculated from the Cambium {cambium_scenario} scenario:\"\n",
    ")\n",
    "print(\n",
    "    f'Total Annual Emissions: {total_emissions[\"Total Emission Rate\"].sum().round(1):,} {emissions_unit.split(\"/\")[0]}'\n",
    ")\n",
    "print(\n",
    "    f'Delivered Emission Factor: {round(total_emissions[\"Delivered Emission Factor\"].mean(), 3)} {emissions_unit}'\n",
    ")\n",
    "\n"
   ]
  },
  {
   "cell_type": "code",
   "execution_count": null,
   "metadata": {
    "execution": {
     "iopub.execute_input": "2022-01-05T21:03:26.663915Z",
     "iopub.status.busy": "2022-01-05T21:03:26.663915Z",
     "iopub.status.idle": "2022-01-05T21:03:27.343422Z",
     "shell.execute_reply": "2022-01-05T21:03:27.343422Z"
    }
   },
   "outputs": [],
   "source": [
    "build_hourly_emissions_heatmap(total_emissions, emissions_unit, cambium_scenario).show()\n"
   ]
  },
  {
   "cell_type": "markdown",
   "metadata": {},
   "source": [
    "# Generator Portfolio"
   ]
  },
  {
   "cell_type": "markdown",
   "metadata": {},
   "source": [
    "The sunburst chart describes the built portfolio at various levels of detail, which shows how the outer rings relate to the inner rings\n",
    "- Inner circle: contract status (contracted or additional project)\n",
    "- Middle ring: technology type (e.g. solar, wind, ...)\n",
    "- Outer ring: specific project name\n",
    "\n",
    "For example, individual projects in the outer ring belong to a specific technology type in the middle ring, which can either be part of the existing/contracted portfolio, or the additional portfolio."
   ]
  },
  {
   "cell_type": "code",
   "execution_count": null,
   "metadata": {
    "execution": {
     "iopub.execute_input": "2022-01-05T21:03:27.343422Z",
     "iopub.status.busy": "2022-01-05T21:03:27.343422Z",
     "iopub.status.idle": "2022-01-05T21:03:27.594037Z",
     "shell.execute_reply": "2022-01-05T21:03:27.594037Z"
    }
   },
   "outputs": [],
   "source": [
    "portfolio = generator_portfolio(\n",
    "    gen_cap, gen_build_predetermined, generation_projects_info, base_year\n",
    ")\n",
    "\n",
    "portfolio_sunburst = px.sunburst(\n",
    "    portfolio,\n",
    "    path=[\"Contract Status\", \"Build Status\", \"Technology\", \"generation_project\"],\n",
    "    values=\"MW\",\n",
    "    color=\"Technology\",\n",
    "    color_discrete_map=technology_color_map,\n",
    "    width=1000,\n",
    "    height=1000,\n",
    "    title=\"Energy Portfolio by Project Name, Technology Type, Build Status, and Contract Status (MW)\",\n",
    ")\n",
    "portfolio_sunburst.update_traces(textinfo=\"label+value\")\n",
    "portfolio_sunburst.show()\n"
   ]
  },
  {
   "cell_type": "markdown",
   "metadata": {},
   "source": [
    "## Power Content Label\n"
   ]
  },
  {
   "cell_type": "code",
   "execution_count": null,
   "metadata": {},
   "outputs": [],
   "source": [
    "power_content = power_content_label(load_balance, dispatch, generation_projects_info)\n",
    "\n",
    "power_content[\"color\"] = power_content[\"Source\"].map(technology_color_map)\n",
    "\n",
    "fig = make_subplots(\n",
    "    rows=1,\n",
    "    cols=2,\n",
    "    specs=[[{\"type\": \"domain\"}, {\"type\": \"domain\"}]],\n",
    "    subplot_titles=[\"Time-coincident accounting\", \"Annual accounting\"],\n",
    ")\n",
    "fig.add_trace(\n",
    "    go.Pie(\n",
    "        labels=power_content[\"Source\"],\n",
    "        values=power_content[\"Dispatched_MWh\"],\n",
    "        name=\"Time-coincident\",\n",
    "        sort=False,\n",
    "    ),\n",
    "    1,\n",
    "    1,\n",
    ")\n",
    "fig.add_trace(\n",
    "    go.Pie(\n",
    "        labels=power_content[\"Source\"],\n",
    "        values=power_content[\"Total_MWh\"],\n",
    "        name=\"Annual\",\n",
    "        sort=False,\n",
    "    ),\n",
    "    1,\n",
    "    2,\n",
    ")\n",
    "\n",
    "fig.update_layout(\n",
    "    width=1200, height=600, title_text=\"Power Content of Delivered Energy\"\n",
    ")\n",
    "fig.update_traces(textinfo=\"percent+label\", marker=dict(colors=power_content[\"color\"]))\n",
    "\n",
    "fig.show()\n"
   ]
  },
  {
   "cell_type": "markdown",
   "metadata": {},
   "source": [
    "## Generation Cost by Project\n",
    "This shows contract costs, Nodal costs, and storage revenues"
   ]
  },
  {
   "cell_type": "code",
   "execution_count": null,
   "metadata": {
    "execution": {
     "iopub.execute_input": "2022-01-05T21:03:27.849809Z",
     "iopub.status.busy": "2022-01-05T21:03:27.834192Z",
     "iopub.status.idle": "2022-01-05T21:03:28.084802Z",
     "shell.execute_reply": "2022-01-05T21:03:28.084802Z"
    }
   },
   "outputs": [],
   "source": [
    "gen_costs = generator_costs(\n",
    "    costs_by_gen,\n",
    "    storage_dispatch,\n",
    "    hybrid_pair,\n",
    "    gen_cap,\n",
    "    generation_projects_info,\n",
    "    storage_exists,\n",
    ")\n",
    "\n",
    "generator_costs_melted = gen_costs.drop(columns=[\"Congestion Cost\", \"Total Cost\"]).melt(\n",
    "    id_vars=\"generation_project\", var_name=\"Cost\", value_name=\"$/MWh\"\n",
    ")\n",
    "\n",
    "generator_cost_fig = px.bar(\n",
    "    generator_costs_melted,\n",
    "    title=f\"Average Generator Cost per MWh Generated ({financial_year}$)\",\n",
    "    x=\"generation_project\",\n",
    "    y=\"$/MWh\",\n",
    "    text=\"$/MWh\",\n",
    "    color=\"Cost\",\n",
    "    category_orders={\n",
    "        \"Cost\": [\n",
    "            \"Energy Contract Cost\",\n",
    "            \"Capacity Contract Cost\",\n",
    "            \"Pnode Revenue\",\n",
    "            \"Delivery Cost\",\n",
    "            \"Congestion Cost\",\n",
    "            \"Storage Arbitrage Revenue\",\n",
    "        ]\n",
    "    },\n",
    "    color_discrete_map={\n",
    "        \"Energy Contract Cost\": \"Red\",\n",
    "        \"Capacity Contract Cost\": \"Orange\",\n",
    "        \"Curtailed Energy Cost\": \"lightpink\",\n",
    "        \"Delivery Cost\": \"lightblue\",\n",
    "        \"Pnode Revenue\": \"blue\",\n",
    "        \"Congestion Cost\": \"Pink\",\n",
    "        \"Storage Arbitrage Revenue\": \"purple\",\n",
    "    },\n",
    ").update_yaxes(zeroline=True, zerolinewidth=2, zerolinecolor=\"black\")\n",
    "generator_cost_fig.update_traces(textposition=\"inside\")\n",
    "generator_cost_fig.add_scatter(\n",
    "    x=gen_costs.generation_project,\n",
    "    y=gen_costs[\"Total Cost\"],\n",
    "    mode=\"markers+text\",\n",
    "    text=gen_costs[\"Total Cost\"],\n",
    "    textposition=\"top center\",\n",
    "    line=dict(color=\"black\", width=1),\n",
    "    name=\"Total Cost\",\n",
    ")\n",
    "\n",
    "generator_cost_fig.show()\n",
    "\n"
   ]
  },
  {
   "cell_type": "markdown",
   "metadata": {},
   "source": [
    "## Generator Utilization"
   ]
  },
  {
   "cell_type": "code",
   "execution_count": null,
   "metadata": {
    "execution": {
     "iopub.execute_input": "2022-01-05T21:03:28.084802Z",
     "iopub.status.busy": "2022-01-05T21:03:28.084802Z",
     "iopub.status.idle": "2022-01-05T21:03:28.273581Z",
     "shell.execute_reply": "2022-01-05T21:03:28.273581Z"
    }
   },
   "outputs": [],
   "source": [
    "utilization = calculate_generator_utilization(dispatch)\n",
    "utilization"
   ]
  },
  {
   "cell_type": "markdown",
   "metadata": {},
   "source": [
    "# Costs"
   ]
  },
  {
   "cell_type": "code",
   "execution_count": null,
   "metadata": {
    "execution": {
     "iopub.execute_input": "2022-01-05T21:03:28.273581Z",
     "iopub.status.busy": "2022-01-05T21:03:28.273581Z",
     "iopub.status.idle": "2022-01-05T21:03:29.159583Z",
     "shell.execute_reply": "2022-01-05T21:03:29.159583Z"
    }
   },
   "outputs": [],
   "source": [
    "hourly_costs = hourly_cost_of_power(\n",
    "    system_power,\n",
    "    costs_by_tp,\n",
    "    ra_summary,\n",
    "    gen_cap,\n",
    "    storage_dispatch,\n",
    "    fixed_costs,\n",
    "    storage_exists,\n",
    ")\n",
    "curtailment_credit = calculate_buyer_curtailment_credit(\n",
    "    costs_by_gen, generation_projects_info, gen_cap\n",
    ")\n",
    "cost_table = construct_cost_table(\n",
    "    hourly_costs, load_balance, rec_value, financials, model_year, curtailment_credit, td_losses\n",
    ")\n",
    "if base_year != financial_year:\n",
    "    print(\n",
    "        f'Model year ({model_year}) costs are discounted to present value in {base_year} using a {financials.loc[0,\"discount_rate\"]*100}% discount rate'\n",
    "    )\n",
    "display(cost_table.set_index(\"Cost Component\"))\n",
    "\n"
   ]
  },
  {
   "cell_type": "markdown",
   "metadata": {},
   "source": [
    "# Portfolio Dispatch"
   ]
  },
  {
   "cell_type": "code",
   "execution_count": null,
   "metadata": {
    "execution": {
     "iopub.execute_input": "2022-01-05T21:03:29.159583Z",
     "iopub.status.busy": "2022-01-05T21:03:29.159583Z",
     "iopub.status.idle": "2022-01-05T21:03:37.439151Z",
     "shell.execute_reply": "2022-01-05T21:03:37.439151Z"
    }
   },
   "outputs": [],
   "source": [
    "dispatch_by_tech, load_line, storage_charge, dispatch_fig = build_dispatch_plot(\n",
    "    generation_projects_info,\n",
    "    dispatch,\n",
    "    storage_dispatch,\n",
    "    load_balance,\n",
    "    system_power,\n",
    "    technology_color_map,\n",
    "    storage_exists,\n",
    ")\n",
    "dispatch_fig.show()\n"
   ]
  },
  {
   "cell_type": "markdown",
   "metadata": {},
   "source": [
    "## Wholesale prices"
   ]
  },
  {
   "cell_type": "code",
   "execution_count": null,
   "metadata": {
    "execution": {
     "iopub.execute_input": "2022-01-05T21:03:37.439151Z",
     "iopub.status.busy": "2022-01-05T21:03:37.439151Z",
     "iopub.status.idle": "2022-01-05T21:03:52.102253Z",
     "shell.execute_reply": "2022-01-05T21:03:52.086631Z"
    }
   },
   "outputs": [],
   "source": [
    "build_nodal_prices_plot(\n",
    "    nodal_prices, timestamps, generation_projects_info, model_year\n",
    ").show()\n",
    "\n"
   ]
  },
  {
   "cell_type": "markdown",
   "metadata": {},
   "source": [
    "# Energy Storage Metrics"
   ]
  },
  {
   "cell_type": "markdown",
   "metadata": {},
   "source": [
    "## Battery state of charge"
   ]
  },
  {
   "cell_type": "code",
   "execution_count": null,
   "metadata": {
    "execution": {
     "iopub.execute_input": "2022-01-05T21:03:52.102253Z",
     "iopub.status.busy": "2022-01-05T21:03:52.102253Z",
     "iopub.status.idle": "2022-01-05T21:03:59.624998Z",
     "shell.execute_reply": "2022-01-05T21:03:59.624998Z"
    }
   },
   "outputs": [],
   "source": [
    "if storage_exists:\n",
    "    build_state_of_charge_plot(\n",
    "        storage_dispatch, storage_builds, generation_projects_info\n",
    "    ).show()\n",
    "else:\n",
    "    print(\"Storage not modeled\")\n"
   ]
  },
  {
   "cell_type": "markdown",
   "metadata": {},
   "source": [
    "## Battery Cycling and State of Charge Stats"
   ]
  },
  {
   "cell_type": "code",
   "execution_count": null,
   "metadata": {
    "execution": {
     "iopub.execute_input": "2022-01-05T21:03:59.624998Z",
     "iopub.status.busy": "2022-01-05T21:03:59.624998Z",
     "iopub.status.idle": "2022-01-05T21:03:59.749964Z",
     "shell.execute_reply": "2022-01-05T21:03:59.749964Z"
    }
   },
   "outputs": [],
   "source": [
    "if storage_exists:\n",
    "    display(\n",
    "        construct_storage_stats_table(\n",
    "            storage_cycle_count, storage_builds, storage_dispatch\n",
    "        )\n",
    "    )\n",
    "else:\n",
    "    print(\"Storage not modeled\")\n"
   ]
  },
  {
   "cell_type": "markdown",
   "metadata": {},
   "source": [
    "# Monthly positions"
   ]
  },
  {
   "cell_type": "markdown",
   "metadata": {},
   "source": [
    "### Month hour average dispatch"
   ]
  },
  {
   "cell_type": "code",
   "execution_count": null,
   "metadata": {
    "execution": {
     "iopub.execute_input": "2022-01-05T21:03:59.749964Z",
     "iopub.status.busy": "2022-01-05T21:03:59.749964Z",
     "iopub.status.idle": "2022-01-05T21:04:00.458967Z",
     "shell.execute_reply": "2022-01-05T21:04:00.458967Z"
    }
   },
   "outputs": [],
   "source": [
    "build_month_hour_dispatch_plot(\n",
    "    dispatch_by_tech, load_line, storage_charge, technology_color_map, storage_exists\n",
    ").show()\n",
    "\n"
   ]
  },
  {
   "cell_type": "markdown",
   "metadata": {},
   "source": [
    "### Month-hour average net position\n",
    "\n",
    "Positive values represent excess generation  \n",
    "Negative values represent an open position"
   ]
  },
  {
   "cell_type": "code",
   "execution_count": null,
   "metadata": {
    "execution": {
     "iopub.execute_input": "2022-01-05T21:04:00.474588Z",
     "iopub.status.busy": "2022-01-05T21:04:00.458967Z",
     "iopub.status.idle": "2022-01-05T21:04:01.560809Z",
     "shell.execute_reply": "2022-01-05T21:04:01.560809Z"
    }
   },
   "outputs": [],
   "source": [
    "build_open_position_plot(load_balance, storage_exists).show()\n"
   ]
  },
  {
   "cell_type": "markdown",
   "metadata": {},
   "source": [
    "## Resource Adequacy Position"
   ]
  },
  {
   "cell_type": "code",
   "execution_count": null,
   "metadata": {
    "execution": {
     "iopub.execute_input": "2022-01-05T21:04:01.560809Z",
     "iopub.status.busy": "2022-01-05T21:04:01.560809Z",
     "iopub.status.idle": "2022-01-05T21:04:01.732634Z",
     "shell.execute_reply": "2022-01-05T21:04:01.732634Z"
    }
   },
   "outputs": [],
   "source": [
    "if ra_exists:\n",
    "    build_ra_open_position_plot(ra_summary).show()\n",
    "else:\n",
    "    print(\"Resource Adequacy was not modeled\")\n",
    "\n"
   ]
  },
  {
   "cell_type": "markdown",
   "metadata": {},
   "source": [
    "# Impact Metrics"
   ]
  },
  {
   "cell_type": "markdown",
   "metadata": {},
   "source": [
    "## Long-run Marginal Emissions Impact\n",
    "Estimates the consequential long run impact of additional generation and storage dispatch in the portfolio for the lifetime of the contract. This metric quantifies emissions impacts resulting from changes in generator dispatch, commitment, investments, and retirements."
   ]
  },
  {
   "cell_type": "code",
   "execution_count": null,
   "metadata": {},
   "outputs": [],
   "source": [
    "# determine which generation is additional\n",
    "addl_dispatch, addl_storage_dispatch = determine_additional_dispatch(\n",
    "    generation_projects_info, dispatch, storage_dispatch, storage_exists\n",
    ")\n",
    "\n",
    "# pivot the lrmer data\n",
    "lrmer_data[\"timestamp\"] = pd.to_datetime(lrmer_data[\"timestamp\"])\n",
    "lrmer_pivot = lrmer_data.pivot(\n",
    "    index=[\"cambium_scenario\", \"timestamp\"], columns=\"cambium_region\", values=\"lrmer\"\n",
    ")\n",
    "\n",
    "# multiply the generation and mer data\n",
    "lr_generation_impact = lrmer_pivot.mul(addl_dispatch, axis=0, level=1).sum(axis=1)\n",
    "# calculate annual total for each scenario\n",
    "lr_generation_impact = (\n",
    "    lr_generation_impact.reset_index().drop(columns=['timestamp']).groupby(\"cambium_scenario\").sum()\n",
    ")\n",
    "lr_generation_impact = lr_generation_impact.rename(\n",
    "    columns={0: f'Generation {emissions_unit.split(\"/\")[0]}'}\n",
    ")\n",
    "\n",
    "# multiply the storage and mer data\n",
    "lr_storage_impact = lrmer_pivot.mul(addl_storage_dispatch, axis=0, level=1).sum(axis=1)\n",
    "# calculate annual total for each scenario\n",
    "\n",
    "lr_storage_impact = lr_storage_impact.reset_index().drop(columns=['timestamp']).groupby(\"cambium_scenario\").sum()\n",
    "lr_storage_impact = lr_storage_impact.rename(\n",
    "    columns={0: f'Storage {emissions_unit.split(\"/\")[0]}'}\n",
    ")\n",
    "\n",
    "lr_impact = pd.concat([lr_generation_impact, lr_storage_impact], axis=1)\n",
    "lr_impact[f'Total {emissions_unit.split(\"/\")[0]}'] = lr_impact.sum(axis=1)\n",
    "\n",
    "# calculate the net portfolio generation\n",
    "net_generated_mwh = (\n",
    "    load_balance[\n",
    "        [\n",
    "            \"ZoneTotalGeneratorDispatch\",\n",
    "            \"ZoneTotalStorageDischarge\",\n",
    "            \"ZoneTotalExcessGen\",\n",
    "        ]\n",
    "    ]\n",
    "    .sum()\n",
    "    .sum()\n",
    "    - load_balance[[\"ZoneTotalStorageCharge\"]].sum().sum()\n",
    ")\n",
    "\n",
    "# calculate the impact per MWh generated\n",
    "lr_impact[f\"Total {emissions_unit}\"] = lr_impact[\n",
    "    f'Total {emissions_unit.split(\"/\")[0]}'\n",
    "] / (net_generated_mwh)\n",
    "\n",
    "# append the average values\n",
    "lr_impact = pd.concat(\n",
    "    [lr_impact, pd.DataFrame(lr_impact.mean(axis=0).rename(\"Average\")).T]\n",
    ")\n",
    "\n",
    "lr_impact\n"
   ]
  },
  {
   "cell_type": "markdown",
   "metadata": {},
   "source": [
    "## Impact on the Systemwide Daily Net Demand Peak\n",
    "This metric shows how additional wind and solar generation (categorized as \"future\" builds in the generator portfolio chart) affect the CAISO system net demand profile, specifically how the addition of these resources increase or decrease the systemwide net demand peak. Impacts are shown both based just on wind and solar generation, and for wind, solar, and storage dispatch."
   ]
  },
  {
   "cell_type": "code",
   "execution_count": null,
   "metadata": {
    "execution": {
     "iopub.execute_input": "2022-01-05T21:04:23.354019Z",
     "iopub.status.busy": "2022-01-05T21:04:23.354019Z",
     "iopub.status.idle": "2022-01-05T21:04:24.330899Z",
     "shell.execute_reply": "2022-01-05T21:04:24.330899Z"
    }
   },
   "outputs": [],
   "source": [
    "addl_var_dispatch, add_storage_dispatch_2 = determine_additional_variable_dispatch(\n",
    "    generation_projects_info, portfolio, dispatch, storage_dispatch, storage_exists\n",
    ")\n",
    "\n",
    "# calculate system metrics\n",
    "if not addl_var_dispatch.empty:\n",
    "    peaks = compare_system_peaks(\n",
    "        cambium_model_year, addl_var_dispatch, add_storage_dispatch_2\n",
    "    )\n",
    "    display(peaks)\n",
    "else:\n",
    "    print(\"No additional generators\")\n",
    "\n"
   ]
  },
  {
   "cell_type": "markdown",
   "metadata": {},
   "source": [
    "## Impact on Steepness of the Systemwide Daily Maximum Net Demand Ramp\n",
    "This metric shows how additional wind and solar generation (categorized as \"future\" builds in the generator portfolio chart) affect the CAISO system net demand profile, specifically how the addition of these resources increase or decrease the steepness of the daily maximum 3 hour ramp. This ramp typically occurs in the evening as the sun goes down, and is one of the challenges of renewable integration. Impacts are shown both based just on wind and solar generation, and for wind, solar, and storage dispatch."
   ]
  },
  {
   "cell_type": "code",
   "execution_count": null,
   "metadata": {
    "execution": {
     "iopub.execute_input": "2022-01-05T21:04:24.330899Z",
     "iopub.status.busy": "2022-01-05T21:04:24.330899Z",
     "iopub.status.idle": "2022-01-05T21:04:25.103530Z",
     "shell.execute_reply": "2022-01-05T21:04:25.103530Z"
    }
   },
   "outputs": [],
   "source": [
    "# calculate daily 3 hour ramp\n",
    "ramp_length = 3\n",
    "\n",
    "if not addl_dispatch.empty:\n",
    "    ramps = compare_system_ramps(\n",
    "        cambium_model_year, addl_var_dispatch, add_storage_dispatch_2, ramp_length\n",
    "    )\n",
    "    display(ramps)\n",
    "else:\n",
    "    print(\"No additional generators\")\n",
    "\n"
   ]
  },
  {
   "cell_type": "markdown",
   "metadata": {},
   "source": [
    "# Assumptions"
   ]
  },
  {
   "cell_type": "code",
   "execution_count": null,
   "metadata": {
    "execution": {
     "iopub.execute_input": "2022-01-05T21:04:25.103530Z",
     "iopub.status.busy": "2022-01-05T21:04:25.103530Z",
     "iopub.status.idle": "2022-01-05T21:04:25.246870Z",
     "shell.execute_reply": "2022-01-05T21:04:25.246870Z"
    },
    "tags": []
   },
   "outputs": [],
   "source": [
    "pd.set_option(\"display.max_rows\", 100)\n",
    "gen_assumptions = pd.read_csv(\n",
    "    inputs_dir / \"generation_projects_info.csv\",\n",
    "    usecols=[\n",
    "        \"GENERATION_PROJECT\",\n",
    "        \"gen_tech\",\n",
    "        \"gen_energy_source\",\n",
    "        \"ppa_energy_cost\",\n",
    "        \"ppa_capacity_cost\",\n",
    "        \"gen_capacity_limit_mw\",\n",
    "    ],\n",
    ")\n",
    "gen_assumptions = gen_assumptions[gen_assumptions[\"gen_tech\"] != \"Storage\"]\n",
    "gen_assumptions = gen_assumptions.sort_values(by=\"GENERATION_PROJECT\")\n",
    "gen_assumptions = gen_assumptions.set_index(\"GENERATION_PROJECT\")\n",
    "display(gen_assumptions)\n"
   ]
  },
  {
   "cell_type": "markdown",
   "metadata": {},
   "source": [
    "# Storage Assumptions"
   ]
  },
  {
   "cell_type": "code",
   "execution_count": null,
   "metadata": {
    "execution": {
     "iopub.execute_input": "2022-01-05T21:04:25.263077Z",
     "iopub.status.busy": "2022-01-05T21:04:25.246870Z",
     "iopub.status.idle": "2022-01-05T21:04:25.388743Z",
     "shell.execute_reply": "2022-01-05T21:04:25.388743Z"
    }
   },
   "outputs": [],
   "source": [
    "if storage_exists:\n",
    "    storage_assumptions = pd.read_csv(\n",
    "        inputs_dir / \"generation_projects_info.csv\",\n",
    "        usecols=[\n",
    "            \"GENERATION_PROJECT\",\n",
    "            \"gen_tech\",\n",
    "            \"gen_energy_source\",\n",
    "            \"ppa_capacity_cost\",\n",
    "            \"gen_capacity_limit_mw\",\n",
    "            \"storage_roundtrip_efficiency\",\n",
    "            \"storage_charge_to_discharge_ratio\",\n",
    "            \"storage_energy_to_power_ratio\",\n",
    "            \"storage_leakage_loss\",\n",
    "            \"storage_hybrid_generation_project\",\n",
    "            \"storage_hybrid_min_capacity_ratio\",\n",
    "            \"storage_hybrid_max_capacity_ratio\",\n",
    "        ],\n",
    "    )\n",
    "    # change capacity cost to $/kw-mo\n",
    "    storage_assumptions[\"ppa_capacity_cost\"] = (\n",
    "        storage_assumptions[\"ppa_capacity_cost\"] / 12000\n",
    "    )\n",
    "\n",
    "    storage_assumptions = storage_assumptions.rename(\n",
    "        columns={\n",
    "            \"storage_roundtrip_efficiency\": \"RTE\",\n",
    "            \"storage_charge_to_discharge_ratio\": \"charge/discharge_ratio\",\n",
    "            \"storage_energy_to_power_ratio\": \"storage_hours\",\n",
    "            \"storage_leakage_loss\": \"soc_leakage_loss\",\n",
    "            \"storage_hybrid_generation_project\": \"paired_hybrid_gen\",\n",
    "            \"storage_hybrid_min_capacity_ratio\": \"hybrid_min_capacity_ratio\",\n",
    "            \"storage_hybrid_max_capacity_ratio\": \"hybrid_max_capacity_ratio\",\n",
    "        }\n",
    "    )\n",
    "\n",
    "    storage_assumptions = storage_assumptions[\n",
    "        storage_assumptions[\"gen_tech\"] == \"Storage\"\n",
    "    ]\n",
    "    storage_assumptions = storage_assumptions.sort_values(by=\"GENERATION_PROJECT\")\n",
    "    storage_assumptions = storage_assumptions.set_index(\"GENERATION_PROJECT\")\n",
    "    storage_assumptions = storage_assumptions[\n",
    "        [\n",
    "            \"gen_tech\",\n",
    "            \"ppa_capacity_cost\",\n",
    "            \"gen_capacity_limit_mw\",\n",
    "            \"RTE\",\n",
    "            \"storage_hours\",\n",
    "            \"charge/discharge_ratio\",\n",
    "            \"soc_leakage_loss\",\n",
    "            \"paired_hybrid_gen\",\n",
    "            \"hybrid_min_capacity_ratio\",\n",
    "            \"hybrid_max_capacity_ratio\",\n",
    "        ]\n",
    "    ]\n",
    "    display(storage_assumptions)\n",
    "else:\n",
    "    print(\"Storage not modeled\")\n"
   ]
  },
  {
   "cell_type": "code",
   "execution_count": null,
   "metadata": {
    "execution": {
     "iopub.execute_input": "2022-01-05T21:04:25.388743Z",
     "iopub.status.busy": "2022-01-05T21:04:25.388743Z",
     "iopub.status.idle": "2022-01-05T21:04:25.498093Z",
     "shell.execute_reply": "2022-01-05T21:04:25.498093Z"
    }
   },
   "outputs": [],
   "source": [
    "# export scenario summary\n",
    "# create an output summary table\n",
    "construct_summary_output_table(\n",
    "    scenario_name,\n",
    "    cost_table,\n",
    "    load_balance,\n",
    "    portfolio,\n",
    "    sensitivity_table,\n",
    "    lr_impact,\n",
    "    total_emissions,\n",
    "    peaks,\n",
    "    ramps,\n",
    "    emissions_unit,\n",
    "    base_year,\n",
    "    financial_year,\n",
    "    dispatch,\n",
    ").to_csv(scenario_output_dir / f\"scenario_summary_{scenario_name}.csv\")\n",
    "\n"
   ]
  }
 ],
 "metadata": {
  "kernelspec": {
   "display_name": "match_model",
   "language": "python",
   "name": "python3"
  },
  "language_info": {
   "codemirror_mode": {
    "name": "ipython",
    "version": 3
   },
   "file_extension": ".py",
   "mimetype": "text/x-python",
   "name": "python",
   "nbconvert_exporter": "python",
   "pygments_lexer": "ipython3",
   "version": "3.10.12"
  },
  "vscode": {
   "interpreter": {
    "hash": "8cecdc9c333a4ce383aca35893f636cff64c1ebdad329fede1961e67663e09e7"
   }
  }
 },
 "nbformat": 4,
 "nbformat_minor": 2
}
